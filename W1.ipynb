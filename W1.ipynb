{
 "cells": [
  {
   "cell_type": "code",
   "execution_count": null,
   "metadata": {},
   "outputs": [],
   "source": [
    "# 3.2\n",
    "# Given a day x describe an algorithm that in O(n) time finds the best pair \n",
    "# (i,j) where i ≤ x and j > x. The best pair is the pair that maximizes the\n",
    "# profit.\n",
    "\n",
    "# n = 6\n",
    "# s_ = [500, 150, 500, 300, 450, 200]\n",
    "# b_ = [700, 300, 400, 300, 600, 300]\n",
    "\n",
    "n = int(input())\n",
    "s = [int(i) for i in input().split(' ') if i.isdigit()]\n",
    "b = [int(i) for i in input().split(' ') if i.isdigit()]\n",
    "\n",
    "s = [x - i*100 for i, x in enumerate(s)]\n",
    "b = [x - i*100 for i, x in enumerate(b)]\n",
    "\n",
    "x = 3\n",
    "\n",
    "print(max(b[x:]) - min(s[:x]))\n",
    "\n",
    "\n",
    "# MAX = int()\n",
    "\n",
    "# for y, i in enumerate(s):\n",
    "#     for x, j in enumerate(b):\n",
    "#         if (y <= x):\n",
    "#             PROF = j - i\n",
    "#             if (PROF > MAX):\n",
    "#                 MAX = PROF\n",
    "\n",
    "# print(MAX)\n"
   ]
  },
  {
   "cell_type": "code",
   "execution_count": null,
   "metadata": {},
   "outputs": [],
   "source": [
    "# 3.3 \n",
    "# Describe a divide-and-conquer algorithm that finds the pair of producers and\n",
    "# stores that maximizes the profit. \n",
    "\n",
    "n = int(input())\n",
    "s = [int(i) for i in input().split(' ') if i.isdigit()]\n",
    "b = [int(i) for i in input().split(' ') if i.isdigit()]\n",
    "\n",
    "\n",
    "MAX = int()\n",
    "\n",
    "for y, i in enumerate(s):\n",
    "    for x, j in enumerate(b):\n",
    "        if (y <= x):\n",
    "            PROF = j - i\n",
    "            if (PROF > MAX):\n",
    "                MAX = PROF\n",
    "\n",
    "print(MAX)\n"
   ]
  },
  {
   "cell_type": "code",
   "execution_count": 6,
   "metadata": {},
   "outputs": [
    {
     "name": "stdout",
     "output_type": "stream",
     "text": [
      "200\n"
     ]
    }
   ],
   "source": [
    "# 3.3 some testing that didn't end up working at all\n",
    "# i have no idea how to do recursion apparently\n",
    "\n",
    "from operator import indexOf\n",
    "# n = int(input())\n",
    "# s = [int(i) for i in input().split(' ') if i.isdigit()]\n",
    "# b = [int(i) for i in input().split(' ') if i.isdigit()]\n",
    "\n",
    "n = 6\n",
    "s = [500, 150, 500, 300, 450, 200]\n",
    "b = [700, 300, 400, 300, 600, 300]\n",
    "\n",
    "\n",
    "# n = 17\n",
    "# s = [8706, 3505, 4828, 492, 7072, 2070, 9969, 237, 4520,\n",
    "#      2404, 1392, 4300, 7391, 7156, 2286, 4206, 5829]\n",
    "# b = [3835, 7976, 9007, 9243, 7039, 5968, 7043, 5141,\n",
    "#      1923, 5669, 9744, 4308, 7347, 9081, 2210, 7216, 7265]\n",
    "\n",
    "\n",
    "s = [x - i*100 for i, x in enumerate(s)]\n",
    "b = [x - i*100 for i, x in enumerate(b)]\n",
    "\n",
    "# a recursive function to find the maximum profit\n",
    "# where profit = max(buying price - selling price), the profit must be found for\n",
    "# all indexes of the buying list for each index of the selling list\n",
    "def max_profit(s, b, i, j, MAX):\n",
    "    pass\n",
    "    # base case\n",
    "    if i == len(s) or j == len(b):\n",
    "        return MAX\n",
    "    # if j > len(b):\n",
    "    #     j = i\n",
    "    if (i > j):\n",
    "        return max_profit(s, b, i, i, MAX)\n",
    "    # if the buying price is less than the selling price\n",
    "    if s[i] < b[j]:\n",
    "        # if the profit is greater than the max profit\n",
    "        PROF = b[j] - s[i]\n",
    "        if PROF > MAX:\n",
    "            # set the max profit to the current profit\n",
    "            MAX = PROF\n",
    "\n",
    "    # if the buying price is greater than the selling price\n",
    "    if s[i] > b[j]:\n",
    "        # increment the buying index\n",
    "        i += 1\n",
    "    else:\n",
    "        # increment the selling index\n",
    "        j += 1\n",
    "\n",
    "    # recursive call\n",
    "    return max_profit(s, b, i, j, MAX)\n",
    "\n",
    "print(max_profit(s, b, 0, 0, 0))"
   ]
  }
 ],
 "metadata": {
  "kernelspec": {
   "display_name": "Python 3.10.6 64-bit",
   "language": "python",
   "name": "python3"
  },
  "language_info": {
   "codemirror_mode": {
    "name": "ipython",
    "version": 3
   },
   "file_extension": ".py",
   "mimetype": "text/x-python",
   "name": "python",
   "nbconvert_exporter": "python",
   "pygments_lexer": "ipython3",
   "version": "3.10.6"
  },
  "orig_nbformat": 4,
  "vscode": {
   "interpreter": {
    "hash": "949777d72b0d2535278d3dc13498b2535136f6dfe0678499012e853ee9abcab1"
   }
  }
 },
 "nbformat": 4,
 "nbformat_minor": 2
}
